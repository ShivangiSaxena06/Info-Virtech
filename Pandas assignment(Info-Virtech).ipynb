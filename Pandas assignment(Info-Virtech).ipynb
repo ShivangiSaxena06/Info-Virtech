{
 "cells": [
  {
   "cell_type": "markdown",
   "id": "74b98fb3",
   "metadata": {},
   "source": [
    "## 1. Make a Pandas DataFrame with two-dimensional list"
   ]
  },
  {
   "cell_type": "code",
   "execution_count": 2,
   "id": "c67e171b",
   "metadata": {},
   "outputs": [
    {
     "name": "stdout",
     "output_type": "stream",
     "text": [
      "  Student_name  Marks\n",
      "0        Anita     25\n",
      "1        Rohan     30\n",
      "2        Shivi     26\n",
      "3        Vicky     22\n"
     ]
    }
   ],
   "source": [
    "# import pandas as pd \n",
    "import pandas as pd  \n",
    "      \n",
    "# List1  \n",
    "lst = [['Anita', 25], ['Rohan', 30], \n",
    "       ['Shivi', 26], ['Vicky', 22]] \n",
    "  \n",
    "# creating df object with columns specified    \n",
    "df = pd.DataFrame(lst, columns =['Student_name', 'Marks']) \n",
    "print(df )"
   ]
  },
  {
   "cell_type": "markdown",
   "id": "b251204d",
   "metadata": {},
   "source": [
    "## 2. Creating DataFrame from dict of narray/lists"
   ]
  },
  {
   "cell_type": "markdown",
   "id": "13cdbe88",
   "metadata": {},
   "source": [
    "### (i) Create a DataFrame from a Numpy ndarray"
   ]
  },
  {
   "cell_type": "code",
   "execution_count": 3,
   "id": "027c9e1a",
   "metadata": {},
   "outputs": [
    {
     "name": "stdout",
     "output_type": "stream",
     "text": [
      "The original Numpy array\n",
      "[[ 0.51473423  0.70286054  1.17031384]\n",
      " [ 0.20568073 -1.30176726  1.26029542]]\n",
      "The DataFrame \n",
      "          0         1         2\n",
      "0  0.514734  0.702861  1.170314\n",
      "1  0.205681 -1.301767  1.260295\n"
     ]
    }
   ],
   "source": [
    "import pandas as pd\n",
    "import numpy as np\n",
    "\n",
    "d = np.random.normal(size=(2,3))\n",
    "print(\"The original Numpy array\")\n",
    "print(d)\n",
    "\n",
    "s = pd.DataFrame(d)\n",
    "print(\"The DataFrame \")\n",
    "print(s)"
   ]
  },
  {
   "cell_type": "markdown",
   "id": "25af73b0",
   "metadata": {},
   "source": [
    "### (ii) Create a DataFrame from a dictionary of lists"
   ]
  },
  {
   "cell_type": "code",
   "execution_count": 7,
   "id": "b69bc7bb",
   "metadata": {},
   "outputs": [
    {
     "name": "stdout",
     "output_type": "stream",
     "text": [
      "The DataFrame \n",
      "      a    b\n",
      "a1  1.0  5.0\n",
      "a2  2.0  NaN\n",
      "b2  7.0  4.0\n",
      "c   3.0  9.0\n",
      "b1  NaN  2.0\n"
     ]
    }
   ],
   "source": [
    "d = {\"a\": {\"a1\":1, \"a2\":2,\"b2\":7, \"c\":3}, \"b\":{\"a1\":5,\"b1\":2, \"b2\":4, \"c\":9}}\n",
    "df = pd.DataFrame(d)\n",
    "print(\"The DataFrame \")\n",
    "print(df)"
   ]
  },
  {
   "cell_type": "markdown",
   "id": "34b422f7",
   "metadata": {},
   "source": [
    "## 3. Creating Pandas dataframe using list of lists "
   ]
  },
  {
   "cell_type": "code",
   "execution_count": 8,
   "id": "7b9aa0a4",
   "metadata": {},
   "outputs": [
    {
     "name": "stdout",
     "output_type": "stream",
     "text": [
      "  Name  Age\n",
      "0    A   10\n",
      "1    B   15\n",
      "2    C   20\n",
      "3    D   21\n"
     ]
    }
   ],
   "source": [
    "import pandas as pd\n",
    "data = [['A', 10], ['B', 15], ['C', 20],['D', 21]]\n",
    "df = pd.DataFrame(data, columns = ['Name', 'Age'])\n",
    "print(df)"
   ]
  },
  {
   "cell_type": "markdown",
   "id": "8a0470fc",
   "metadata": {},
   "source": [
    "## 4. Creating a Pandas dataframe using list of tuples"
   ]
  },
  {
   "cell_type": "code",
   "execution_count": 9,
   "id": "b951f429",
   "metadata": {},
   "outputs": [
    {
     "name": "stdout",
     "output_type": "stream",
     "text": [
      "  Name  Age\n",
      "0    A   10\n",
      "1    B   15\n",
      "2    C   20\n",
      "3    D   21\n"
     ]
    }
   ],
   "source": [
    "import pandas as pd\n",
    "data = [('A', 10), ('B', 15), ('C', 20),('D', 21)]\n",
    "df = pd.DataFrame(data, columns = ['Name', 'Age'])\n",
    "print(df)"
   ]
  },
  {
   "cell_type": "markdown",
   "id": "acfeef78",
   "metadata": {},
   "source": [
    "## 5. Create a Pandas DataFrame from List of Dicts"
   ]
  },
  {
   "cell_type": "code",
   "execution_count": 10,
   "id": "40eb6552",
   "metadata": {},
   "outputs": [
    {
     "name": "stdout",
     "output_type": "stream",
     "text": [
      "   points  time    year     month  points_h1\n",
      "0    50.0  5:00  2010.0       NaN        NaN\n",
      "1    25.0  6:00     NaN  february        NaN\n",
      "2    90.0  9:00     NaN   january        NaN\n",
      "3     NaN   NaN     NaN      june       20.0\n"
     ]
    }
   ],
   "source": [
    "import pandas as pd\n",
    "data = [{'points': 50, 'time': '5:00', 'year': 2010}, \n",
    " {'points': 25, 'time': '6:00', 'month': \"february\"}, \n",
    " {'points':90, 'time': '9:00', 'month': 'january'}, \n",
    " {'points_h1':20, 'month': 'june'}]\n",
    " \n",
    "df = pd.DataFrame.from_records(data)\n",
    "print(df)"
   ]
  },
  {
   "cell_type": "markdown",
   "id": "d6c45ce3",
   "metadata": {},
   "source": [
    "## 6. Convert list of nested dictionary into Pandas dataframe "
   ]
  },
  {
   "cell_type": "code",
   "execution_count": 15,
   "id": "94f51ca9",
   "metadata": {},
   "outputs": [
    {
     "name": "stdout",
     "output_type": "stream",
     "text": [
      "   Price Quality    Name\n",
      "0   15.2       A  Orange\n",
      "1   19.0       B  Orange\n",
      "2   17.8       C  Orange\n",
      "3   23.2       A  Grapes\n",
      "4   28.0       B  Grapes\n"
     ]
    }
   ],
   "source": [
    "import pandas as pd\n",
    "\n",
    "# Given nested dictionary\n",
    "list = [\n",
    "   {\n",
    "      \"Fruit\": [{\"Price\": 15.2, \"Quality\": \"A\"},\n",
    "         {\"Price\": 19, \"Quality\": \"B\"},\n",
    "         {\"Price\": 17.8, \"Quality\": \"C\"},\n",
    "      ],\n",
    "      \"Name\": \"Orange\"\n",
    "   },\n",
    "    {\n",
    "      \"Fruit\": [{\"Price\": 23.2, \"Quality\": \"A\"},\n",
    "         {\"Price\": 28, \"Quality\": \"B\"}\n",
    "      ],\n",
    "      \"Name\": \"Grapes\"\n",
    "   }\n",
    "]\n",
    "\n",
    "rows = []\n",
    "\n",
    "# Getting rows\n",
    "for data in list:\n",
    "   data_row = data['Fruit']\n",
    "   n = data['Name']\n",
    "\n",
    "   for row in data_row:\n",
    "      row['Name'] = n\n",
    "      rows.append(row)\n",
    "\n",
    "# Convert to data frame\n",
    "df = pd.DataFrame(rows)\n",
    "print(df)  "
   ]
  },
  {
   "cell_type": "markdown",
   "id": "b684c60c",
   "metadata": {},
   "source": [
    "## 7. Replace values in Pandas dataframe using regex"
   ]
  },
  {
   "cell_type": "markdown",
   "id": "28582915",
   "metadata": {},
   "source": [
    "Suppose you want to replace all the domain suffixes such as \n",
    ".com, .in, .tech, etc to .edu in the email column of the dataset.\n",
    "The regex pattern for this case will be \\.\\w+."
   ]
  },
  {
   "cell_type": "code",
   "execution_count": 1,
   "id": "27890cba",
   "metadata": {},
   "outputs": [
    {
     "data": {
      "text/html": [
       "<div>\n",
       "<style scoped>\n",
       "    .dataframe tbody tr th:only-of-type {\n",
       "        vertical-align: middle;\n",
       "    }\n",
       "\n",
       "    .dataframe tbody tr th {\n",
       "        vertical-align: top;\n",
       "    }\n",
       "\n",
       "    .dataframe thead th {\n",
       "        text-align: right;\n",
       "    }\n",
       "</style>\n",
       "<table border=\"1\" class=\"dataframe\">\n",
       "  <thead>\n",
       "    <tr style=\"text-align: right;\">\n",
       "      <th></th>\n",
       "      <th>twitter_username</th>\n",
       "      <th>tweet</th>\n",
       "      <th>email</th>\n",
       "    </tr>\n",
       "  </thead>\n",
       "  <tbody>\n",
       "    <tr>\n",
       "      <th>0</th>\n",
       "      <td>@mlplus</td>\n",
       "      <td>We are excited to launch our new course on ML....</td>\n",
       "      <td>mlplus@mlplus.tech</td>\n",
       "    </tr>\n",
       "    <tr>\n",
       "      <th>1</th>\n",
       "      <td>@kaustubhgupta</td>\n",
       "      <td>@gmail Gmail is down for 30 minutes. What's th...</td>\n",
       "      <td>kaustubh@random.in</td>\n",
       "    </tr>\n",
       "    <tr>\n",
       "      <th>2</th>\n",
       "      <td>@rajveer</td>\n",
       "      <td>Excited to lauch our new product! #newproduct ...</td>\n",
       "      <td>rajveer@twitter.me</td>\n",
       "    </tr>\n",
       "    <tr>\n",
       "      <th>3</th>\n",
       "      <td>@joe</td>\n",
       "      <td>When will this coronavirus end? #thoughts</td>\n",
       "      <td>joe@facebook.pl</td>\n",
       "    </tr>\n",
       "    <tr>\n",
       "      <th>4</th>\n",
       "      <td>@abhishek</td>\n",
       "      <td>I want to become web developer. Any tips? @web...</td>\n",
       "      <td>abhishek@orkut.tech</td>\n",
       "    </tr>\n",
       "    <tr>\n",
       "      <th>5</th>\n",
       "      <td>@ayushi</td>\n",
       "      <td>Missing college! @colllege</td>\n",
       "      <td>ayushi@space.org</td>\n",
       "    </tr>\n",
       "  </tbody>\n",
       "</table>\n",
       "</div>"
      ],
      "text/plain": [
       "  twitter_username                                              tweet  \\\n",
       "0          @mlplus  We are excited to launch our new course on ML....   \n",
       "1   @kaustubhgupta  @gmail Gmail is down for 30 minutes. What's th...   \n",
       "2         @rajveer  Excited to lauch our new product! #newproduct ...   \n",
       "3             @joe          When will this coronavirus end? #thoughts   \n",
       "4        @abhishek  I want to become web developer. Any tips? @web...   \n",
       "5          @ayushi                         Missing college! @colllege   \n",
       "\n",
       "                 email  \n",
       "0   mlplus@mlplus.tech  \n",
       "1   kaustubh@random.in  \n",
       "2   rajveer@twitter.me  \n",
       "3      joe@facebook.pl  \n",
       "4  abhishek@orkut.tech  \n",
       "5     ayushi@space.org  "
      ]
     },
     "execution_count": 1,
     "metadata": {},
     "output_type": "execute_result"
    }
   ],
   "source": [
    "\n",
    "import pandas as pd\n",
    "\n",
    "df = pd.DataFrame(\n",
    "                   data= [\n",
    "                        ['@mlplus', 'We are excited to launch our new course on ML. #newcourse #machinelearning #python','mlplus@mlplus.tech'],\n",
    "                        ['@kaustubhgupta', \"@gmail Gmail is down for 30 minutes. What's the matter? #gmaildown #google #gmail\",'kaustubh@random.in'],\n",
    "                        ['@rajveer', 'Excited to lauch our new product! #newproduct #startup ','rajveer@twitter.me'],\n",
    "                        ['@joe', 'When will this coronavirus end? #thoughts','joe@facebook.pl'],\n",
    "                        ['@abhishek', 'I want to become web developer. Any tips? @webdeveloper @randomxyz','abhishek@orkut.tech'],\n",
    "                        ['@ayushi', 'Missing college! @colllege','ayushi@space.org' ]\n",
    "                         ],\n",
    "                    columns=['twitter_username', 'tweet', 'email']\n",
    "                )\n",
    "df"
   ]
  },
  {
   "cell_type": "code",
   "execution_count": 2,
   "id": "9168db30",
   "metadata": {},
   "outputs": [
    {
     "data": {
      "text/plain": [
       "'We are excited to launch our new course on ML. #newcourse #machinelearning #python'"
      ]
     },
     "execution_count": 2,
     "metadata": {},
     "output_type": "execute_result"
    }
   ],
   "source": [
    "df.tweet[0]"
   ]
  },
  {
   "cell_type": "code",
   "execution_count": 3,
   "id": "5685f7f0",
   "metadata": {},
   "outputs": [
    {
     "data": {
      "text/plain": [
       "'We are excited to launch our new course on ML.   '"
      ]
     },
     "execution_count": 3,
     "metadata": {},
     "output_type": "execute_result"
    }
   ],
   "source": [
    "df.tweet.replace(to_replace='#\\w+', regex=True, value='')[0]"
   ]
  },
  {
   "cell_type": "markdown",
   "id": "4bb5ab24",
   "metadata": {},
   "source": [
    "## 8. Creating a dataframe from Pandas series"
   ]
  },
  {
   "cell_type": "code",
   "execution_count": 5,
   "id": "31985b86",
   "metadata": {},
   "outputs": [
    {
     "name": "stdout",
     "output_type": "stream",
     "text": [
      "0    Jitender\n",
      "1     Purnima\n",
      "2       Arpit\n",
      "3       Jyoti\n",
      "dtype: object\n"
     ]
    }
   ],
   "source": [
    "import pandas as pd\n",
    "author = ['Jitender', 'Purnima', 'Arpit', 'Jyoti']\n",
    "auth_series = pd.Series(author)\n",
    "print(auth_series)"
   ]
  },
  {
   "cell_type": "code",
   "execution_count": 6,
   "id": "28fd0103",
   "metadata": {},
   "outputs": [
    {
     "name": "stdout",
     "output_type": "stream",
     "text": [
      "<class 'pandas.core.series.Series'>\n"
     ]
    }
   ],
   "source": [
    "print(type(auth_series))"
   ]
  },
  {
   "cell_type": "markdown",
   "id": "65e0d43a",
   "metadata": {},
   "source": [
    "## 9. Construct a DataFrame in Pandas using string data"
   ]
  },
  {
   "cell_type": "code",
   "execution_count": 7,
   "id": "71d35011",
   "metadata": {},
   "outputs": [
    {
     "name": "stdout",
     "output_type": "stream",
     "text": [
      "   Id       Subject  Course_Fee\n",
      "0  10          DBMS        3000\n",
      "1  11   Basic Maths        2000\n",
      "2  12  Data Science       40000\n",
      "3  13     Algorithm        5000\n"
     ]
    }
   ],
   "source": [
    "import pandas as pd\n",
    "from io import StringIO\n",
    "str_data = StringIO(\"\"\"Id;Subject;Course_Fee\n",
    "                    10;DBMS;3000\n",
    "                    11;Basic Maths;2000\n",
    "                    12;Data Science;40000\n",
    "                    13;Algorithm;5000\n",
    "                       \"\"\")\n",
    "df = pd.read_csv(str_data, sep =\";\")\n",
    "print(df)"
   ]
  },
  {
   "cell_type": "markdown",
   "id": "00655621",
   "metadata": {},
   "source": [
    "## 10. Clean the string data in the given Pandas Dataframe"
   ]
  },
  {
   "cell_type": "code",
   "execution_count": 13,
   "id": "047032e4",
   "metadata": {},
   "outputs": [
    {
     "name": "stdout",
     "output_type": "stream",
     "text": [
      "        Date     Product  Updated_Price  Discount\n",
      "0  10/2/2011    UMbreLla           1250        10\n",
      "1  11/2/2011    maTtress           1450         8\n",
      "2  12/2/2011  BaDmintoN            1550        15\n",
      "3  13/2/2011     Shuttle            400        10\n"
     ]
    }
   ],
   "source": [
    "import pandas as pd\n",
    "df = pd.DataFrame({'Date':['10/2/2011', '11/2/2011', '12/2/2011', '13/2/2011'],\n",
    "                   'Product':[' UMbreLla', '  maTtress', 'BaDmintoN ', 'Shuttle'],\n",
    "                   'Updated_Price':[1250, 1450, 1550, 400],\n",
    "                   'Discount':[10, 8, 15, 10]})\n",
    "print(df)"
   ]
  },
  {
   "cell_type": "code",
   "execution_count": 14,
   "id": "e8a032e7",
   "metadata": {},
   "outputs": [
    {
     "name": "stdout",
     "output_type": "stream",
     "text": [
      "        Date    Product  Updated_Price  Discount\n",
      "0  10/2/2011   Umbrella           1250        10\n",
      "1  11/2/2011   Mattress           1450         8\n",
      "2  12/2/2011  Badminton           1550        15\n",
      "3  13/2/2011    Shuttle            400        10\n"
     ]
    }
   ],
   "source": [
    "df['Product'] = df['Product'].apply(lambda x : x.strip().capitalize())\n",
    "print(df)"
   ]
  },
  {
   "cell_type": "markdown",
   "id": "ba35d62f",
   "metadata": {},
   "source": [
    "## 11. Reindexing in Pandas DataFrame"
   ]
  },
  {
   "cell_type": "code",
   "execution_count": 15,
   "id": "cb0933d4",
   "metadata": {},
   "outputs": [
    {
     "name": "stdout",
     "output_type": "stream",
     "text": [
      "          a         b         c         d         e\n",
      "U       NaN       NaN       NaN       NaN       NaN\n",
      "A  0.318008  0.320960  0.795162  0.766260  0.210861\n",
      "B  0.838651  0.224942  0.749789  0.811247  0.622626\n",
      "C  0.576080  0.078624  0.761888  0.100063  0.805067\n",
      "Z       NaN       NaN       NaN       NaN       NaN\n"
     ]
    }
   ],
   "source": [
    "import pandas as pd\n",
    "import numpy as np\n",
    "\n",
    "column = ['a', 'b', 'c', 'd', 'e']\n",
    "index = ['A', 'B', 'C', 'D', 'E']\n",
    "\n",
    "df1 = pd.DataFrame(np.random.rand(5, 5),\n",
    "        columns = column, index = index)\n",
    "\n",
    "new_index =['U', 'A', 'B', 'C', 'Z']\n",
    "print(df1.reindex(new_index))"
   ]
  },
  {
   "cell_type": "markdown",
   "id": "51ba2c53",
   "metadata": {},
   "source": [
    "## 12. Mapping external values to dataframe values in Pandas"
   ]
  },
  {
   "cell_type": "code",
   "execution_count": 16,
   "id": "acfcf551",
   "metadata": {},
   "outputs": [
    {
     "name": "stdout",
     "output_type": "stream",
     "text": [
      "  First_name Last_name  Age    City Qualification\n",
      "0        Ram     Kumar   42  Mumbai         B.Com\n",
      "1      Mohan    Sharma   52   Noida           IAS\n",
      "2       Tina       Ali   36    Pune           LLB\n",
      "3      Jeetu    Gandhi   21   Delhi        B.Tech\n",
      "4      Meera    Kumari   23   Bihar          MBBS\n"
     ]
    }
   ],
   "source": [
    "import pandas as pd\n",
    "  \n",
    "initial_data = {'First_name': ['Ram', 'Mohan', 'Tina', 'Jeetu', 'Meera'], \n",
    "        'Last_name': ['Kumar', 'Sharma', 'Ali', 'Gandhi', 'Kumari'], \n",
    "        'Age': [42, 52, 36, 21, 23], \n",
    "        'City': ['Mumbai', 'Noida', 'Pune', 'Delhi', 'Bihar']}\n",
    "  \n",
    "df = pd.DataFrame(initial_data, columns = ['First_name', 'Last_name',\n",
    "                                                      'Age', 'City'])\n",
    "\n",
    "new_data = { \"Ram\":\"B.Com\",\n",
    "             \"Mohan\":\"IAS\",\n",
    "             \"Tina\":\"LLB\",\n",
    "             \"Jeetu\":\"B.Tech\",\n",
    "             \"Meera\":\"MBBS\" }\n",
    "\n",
    "df[\"Qualification\"] = df[\"First_name\"].map(new_data)\n",
    "  \n",
    "print(df)"
   ]
  },
  {
   "cell_type": "markdown",
   "id": "fd4443bc",
   "metadata": {},
   "source": [
    "## 13. Reshape a pandas DataFrame using stack, unstack and melt method"
   ]
  },
  {
   "cell_type": "code",
   "execution_count": 26,
   "id": "e26b08e9",
   "metadata": {},
   "outputs": [],
   "source": [
    "# stack() function"
   ]
  },
  {
   "cell_type": "code",
   "execution_count": 23,
   "id": "ce9853d5",
   "metadata": {},
   "outputs": [
    {
     "data": {
      "text/html": [
       "<div>\n",
       "<style scoped>\n",
       "    .dataframe tbody tr th:only-of-type {\n",
       "        vertical-align: middle;\n",
       "    }\n",
       "\n",
       "    .dataframe tbody tr th {\n",
       "        vertical-align: top;\n",
       "    }\n",
       "\n",
       "    .dataframe thead th {\n",
       "        text-align: right;\n",
       "    }\n",
       "</style>\n",
       "<table border=\"1\" class=\"dataframe\">\n",
       "  <thead>\n",
       "    <tr style=\"text-align: right;\">\n",
       "      <th></th>\n",
       "      <th>weight</th>\n",
       "      <th>speed</th>\n",
       "    </tr>\n",
       "  </thead>\n",
       "  <tbody>\n",
       "    <tr>\n",
       "      <th>Bugatti</th>\n",
       "      <td>7</td>\n",
       "      <td>9</td>\n",
       "    </tr>\n",
       "    <tr>\n",
       "      <th>Mclaren</th>\n",
       "      <td>11</td>\n",
       "      <td>13</td>\n",
       "    </tr>\n",
       "  </tbody>\n",
       "</table>\n",
       "</div>"
      ],
      "text/plain": [
       "         weight  speed\n",
       "Bugatti       7      9\n",
       "Mclaren      11     13"
      ]
     },
     "execution_count": 23,
     "metadata": {},
     "output_type": "execute_result"
    }
   ],
   "source": [
    "df_single_level_cols = pd.DataFrame([[7, 9], [11, 13]],\n",
    "                                     index=['Bugatti', 'Mclaren'],\n",
    "                                    columns=['weight', 'speed'])\n",
    "\n",
    "df_single_level_cols"
   ]
  },
  {
   "cell_type": "code",
   "execution_count": 25,
   "id": "6cb0ea15",
   "metadata": {},
   "outputs": [
    {
     "data": {
      "text/plain": [
       "Bugatti  weight     7\n",
       "         speed      9\n",
       "Mclaren  weight    11\n",
       "         speed     13\n",
       "dtype: int64"
      ]
     },
     "execution_count": 25,
     "metadata": {},
     "output_type": "execute_result"
    }
   ],
   "source": [
    "df_single_level_cols.stack()"
   ]
  },
  {
   "cell_type": "code",
   "execution_count": 27,
   "id": "5aa6786e",
   "metadata": {},
   "outputs": [],
   "source": [
    "# unstack() function"
   ]
  },
  {
   "cell_type": "code",
   "execution_count": 30,
   "id": "c4e5fd0b",
   "metadata": {},
   "outputs": [
    {
     "data": {
      "text/plain": [
       "blue  p    8.0\n",
       "      q    9.0\n",
       "red   p    6.0\n",
       "      q    7.0\n",
       "dtype: float64"
      ]
     },
     "execution_count": 30,
     "metadata": {},
     "output_type": "execute_result"
    }
   ],
   "source": [
    "index = pd.MultiIndex.from_tuples([('red', 'p'), ('red', 'q'),\n",
    "                                   ('blue', 'p'), ('blue', 'q')])\n",
    "\n",
    "df = s.unstack(level=0)\n",
    "df.unstack()"
   ]
  },
  {
   "cell_type": "code",
   "execution_count": 33,
   "id": "cbe979ac",
   "metadata": {},
   "outputs": [],
   "source": [
    "# melt() function"
   ]
  },
  {
   "cell_type": "code",
   "execution_count": 34,
   "id": "fcb8a3ae",
   "metadata": {},
   "outputs": [
    {
     "data": {
      "text/html": [
       "<div>\n",
       "<style scoped>\n",
       "    .dataframe tbody tr th:only-of-type {\n",
       "        vertical-align: middle;\n",
       "    }\n",
       "\n",
       "    .dataframe tbody tr th {\n",
       "        vertical-align: top;\n",
       "    }\n",
       "\n",
       "    .dataframe thead th {\n",
       "        text-align: right;\n",
       "    }\n",
       "</style>\n",
       "<table border=\"1\" class=\"dataframe\">\n",
       "  <thead>\n",
       "    <tr style=\"text-align: right;\">\n",
       "      <th></th>\n",
       "      <th>A</th>\n",
       "      <th>B</th>\n",
       "      <th>C</th>\n",
       "    </tr>\n",
       "  </thead>\n",
       "  <tbody>\n",
       "    <tr>\n",
       "      <th>0</th>\n",
       "      <td>p</td>\n",
       "      <td>2</td>\n",
       "      <td>5</td>\n",
       "    </tr>\n",
       "    <tr>\n",
       "      <th>1</th>\n",
       "      <td>q</td>\n",
       "      <td>4</td>\n",
       "      <td>7</td>\n",
       "    </tr>\n",
       "    <tr>\n",
       "      <th>2</th>\n",
       "      <td>r</td>\n",
       "      <td>6</td>\n",
       "      <td>9</td>\n",
       "    </tr>\n",
       "  </tbody>\n",
       "</table>\n",
       "</div>"
      ],
      "text/plain": [
       "   A  B  C\n",
       "0  p  2  5\n",
       "1  q  4  7\n",
       "2  r  6  9"
      ]
     },
     "execution_count": 34,
     "metadata": {},
     "output_type": "execute_result"
    }
   ],
   "source": [
    "df = pd.DataFrame({'A': {0: 'p', 1: 'q', 2: 'r'},\n",
    "                    'B': {0: 2, 1: 4, 2: 6},\n",
    "                    'C': {0: 5, 1: 7, 2: 9}})\n",
    "df"
   ]
  },
  {
   "cell_type": "code",
   "execution_count": 35,
   "id": "8bc347cf",
   "metadata": {},
   "outputs": [
    {
     "data": {
      "text/html": [
       "<div>\n",
       "<style scoped>\n",
       "    .dataframe tbody tr th:only-of-type {\n",
       "        vertical-align: middle;\n",
       "    }\n",
       "\n",
       "    .dataframe tbody tr th {\n",
       "        vertical-align: top;\n",
       "    }\n",
       "\n",
       "    .dataframe thead th {\n",
       "        text-align: right;\n",
       "    }\n",
       "</style>\n",
       "<table border=\"1\" class=\"dataframe\">\n",
       "  <thead>\n",
       "    <tr style=\"text-align: right;\">\n",
       "      <th></th>\n",
       "      <th>A</th>\n",
       "      <th>variable</th>\n",
       "      <th>value</th>\n",
       "    </tr>\n",
       "  </thead>\n",
       "  <tbody>\n",
       "    <tr>\n",
       "      <th>0</th>\n",
       "      <td>p</td>\n",
       "      <td>B</td>\n",
       "      <td>2</td>\n",
       "    </tr>\n",
       "    <tr>\n",
       "      <th>1</th>\n",
       "      <td>q</td>\n",
       "      <td>B</td>\n",
       "      <td>4</td>\n",
       "    </tr>\n",
       "    <tr>\n",
       "      <th>2</th>\n",
       "      <td>r</td>\n",
       "      <td>B</td>\n",
       "      <td>6</td>\n",
       "    </tr>\n",
       "  </tbody>\n",
       "</table>\n",
       "</div>"
      ],
      "text/plain": [
       "   A variable  value\n",
       "0  p        B      2\n",
       "1  q        B      4\n",
       "2  r        B      6"
      ]
     },
     "execution_count": 35,
     "metadata": {},
     "output_type": "execute_result"
    }
   ],
   "source": [
    "pd.melt(df, id_vars=['A'], value_vars=['B'])"
   ]
  },
  {
   "cell_type": "code",
   "execution_count": 36,
   "id": "2c670acc",
   "metadata": {},
   "outputs": [
    {
     "data": {
      "text/html": [
       "<div>\n",
       "<style scoped>\n",
       "    .dataframe tbody tr th:only-of-type {\n",
       "        vertical-align: middle;\n",
       "    }\n",
       "\n",
       "    .dataframe tbody tr th {\n",
       "        vertical-align: top;\n",
       "    }\n",
       "\n",
       "    .dataframe thead th {\n",
       "        text-align: right;\n",
       "    }\n",
       "</style>\n",
       "<table border=\"1\" class=\"dataframe\">\n",
       "  <thead>\n",
       "    <tr style=\"text-align: right;\">\n",
       "      <th></th>\n",
       "      <th>A</th>\n",
       "      <th>variable</th>\n",
       "      <th>value</th>\n",
       "    </tr>\n",
       "  </thead>\n",
       "  <tbody>\n",
       "    <tr>\n",
       "      <th>0</th>\n",
       "      <td>p</td>\n",
       "      <td>B</td>\n",
       "      <td>2</td>\n",
       "    </tr>\n",
       "    <tr>\n",
       "      <th>1</th>\n",
       "      <td>q</td>\n",
       "      <td>B</td>\n",
       "      <td>4</td>\n",
       "    </tr>\n",
       "    <tr>\n",
       "      <th>2</th>\n",
       "      <td>r</td>\n",
       "      <td>B</td>\n",
       "      <td>6</td>\n",
       "    </tr>\n",
       "    <tr>\n",
       "      <th>3</th>\n",
       "      <td>p</td>\n",
       "      <td>C</td>\n",
       "      <td>5</td>\n",
       "    </tr>\n",
       "    <tr>\n",
       "      <th>4</th>\n",
       "      <td>q</td>\n",
       "      <td>C</td>\n",
       "      <td>7</td>\n",
       "    </tr>\n",
       "    <tr>\n",
       "      <th>5</th>\n",
       "      <td>r</td>\n",
       "      <td>C</td>\n",
       "      <td>9</td>\n",
       "    </tr>\n",
       "  </tbody>\n",
       "</table>\n",
       "</div>"
      ],
      "text/plain": [
       "   A variable  value\n",
       "0  p        B      2\n",
       "1  q        B      4\n",
       "2  r        B      6\n",
       "3  p        C      5\n",
       "4  q        C      7\n",
       "5  r        C      9"
      ]
     },
     "execution_count": 36,
     "metadata": {},
     "output_type": "execute_result"
    }
   ],
   "source": [
    "pd.melt(df, id_vars=['A'], value_vars=['B', 'C'])"
   ]
  },
  {
   "cell_type": "markdown",
   "id": "d78eff34",
   "metadata": {},
   "source": [
    "## 14.Reset Index in Pandas Dataframe"
   ]
  },
  {
   "cell_type": "code",
   "execution_count": 39,
   "id": "de9bc548",
   "metadata": {},
   "outputs": [
    {
     "data": {
      "text/html": [
       "<div>\n",
       "<style scoped>\n",
       "    .dataframe tbody tr th:only-of-type {\n",
       "        vertical-align: middle;\n",
       "    }\n",
       "\n",
       "    .dataframe tbody tr th {\n",
       "        vertical-align: top;\n",
       "    }\n",
       "\n",
       "    .dataframe thead th {\n",
       "        text-align: right;\n",
       "    }\n",
       "</style>\n",
       "<table border=\"1\" class=\"dataframe\">\n",
       "  <thead>\n",
       "    <tr style=\"text-align: right;\">\n",
       "      <th></th>\n",
       "      <th>Name</th>\n",
       "      <th>Age</th>\n",
       "      <th>Address</th>\n",
       "      <th>Qualification</th>\n",
       "    </tr>\n",
       "  </thead>\n",
       "  <tbody>\n",
       "    <tr>\n",
       "      <th>b</th>\n",
       "      <td>Jai</td>\n",
       "      <td>27</td>\n",
       "      <td>Delhi</td>\n",
       "      <td>Msc</td>\n",
       "    </tr>\n",
       "    <tr>\n",
       "      <th>d</th>\n",
       "      <td>Princi</td>\n",
       "      <td>24</td>\n",
       "      <td>Kanpur</td>\n",
       "      <td>MA</td>\n",
       "    </tr>\n",
       "    <tr>\n",
       "      <th>c</th>\n",
       "      <td>Gaurav</td>\n",
       "      <td>22</td>\n",
       "      <td>Allahabad</td>\n",
       "      <td>MCA</td>\n",
       "    </tr>\n",
       "    <tr>\n",
       "      <th>e</th>\n",
       "      <td>Anuj</td>\n",
       "      <td>32</td>\n",
       "      <td>Kannauj</td>\n",
       "      <td>Phd</td>\n",
       "    </tr>\n",
       "    <tr>\n",
       "      <th>a</th>\n",
       "      <td>Geeku</td>\n",
       "      <td>15</td>\n",
       "      <td>Noida</td>\n",
       "      <td>10th</td>\n",
       "    </tr>\n",
       "  </tbody>\n",
       "</table>\n",
       "</div>"
      ],
      "text/plain": [
       "     Name  Age    Address Qualification\n",
       "b     Jai   27      Delhi           Msc\n",
       "d  Princi   24     Kanpur            MA\n",
       "c  Gaurav   22  Allahabad           MCA\n",
       "e    Anuj   32    Kannauj           Phd\n",
       "a   Geeku   15      Noida          10th"
      ]
     },
     "execution_count": 39,
     "metadata": {},
     "output_type": "execute_result"
    }
   ],
   "source": [
    "# Reset own index and make default index as index.\n",
    "\n",
    "import pandas as pd\n",
    "data = {'Name':['Jai', 'Princi', 'Gaurav', 'Anuj', 'Geeku'],\n",
    "        'Age':[27, 24, 22, 32, 15],\n",
    "        'Address':['Delhi', 'Kanpur', 'Allahabad', 'Kannauj', 'Noida'],\n",
    "        'Qualification':['Msc', 'MA', 'MCA', 'Phd', '10th'] }\n",
    "\n",
    "# Create own index\n",
    "index = {'a', 'b', 'c', 'd', 'e'}\n",
    "\n",
    "df = pd.DataFrame(data, index)\n",
    "\n",
    "df"
   ]
  },
  {
   "cell_type": "markdown",
   "id": "a06b5605",
   "metadata": {},
   "source": [
    "## 15. Change column names and row indexes in Pandas DataFrame"
   ]
  },
  {
   "cell_type": "code",
   "execution_count": 40,
   "id": "65978caf",
   "metadata": {},
   "outputs": [
    {
     "data": {
      "text/html": [
       "<div>\n",
       "<style scoped>\n",
       "    .dataframe tbody tr th:only-of-type {\n",
       "        vertical-align: middle;\n",
       "    }\n",
       "\n",
       "    .dataframe tbody tr th {\n",
       "        vertical-align: top;\n",
       "    }\n",
       "\n",
       "    .dataframe thead th {\n",
       "        text-align: right;\n",
       "    }\n",
       "</style>\n",
       "<table border=\"1\" class=\"dataframe\">\n",
       "  <thead>\n",
       "    <tr style=\"text-align: right;\">\n",
       "      <th></th>\n",
       "      <th>Name</th>\n",
       "      <th>Age</th>\n",
       "    </tr>\n",
       "  </thead>\n",
       "  <tbody>\n",
       "    <tr>\n",
       "      <th>0</th>\n",
       "      <td>Tom</td>\n",
       "      <td>15</td>\n",
       "    </tr>\n",
       "    <tr>\n",
       "      <th>1</th>\n",
       "      <td>Nick</td>\n",
       "      <td>26</td>\n",
       "    </tr>\n",
       "    <tr>\n",
       "      <th>2</th>\n",
       "      <td>John</td>\n",
       "      <td>17</td>\n",
       "    </tr>\n",
       "    <tr>\n",
       "      <th>3</th>\n",
       "      <td>Peter</td>\n",
       "      <td>28</td>\n",
       "    </tr>\n",
       "  </tbody>\n",
       "</table>\n",
       "</div>"
      ],
      "text/plain": [
       "    Name  Age\n",
       "0    Tom   15\n",
       "1   Nick   26\n",
       "2   John   17\n",
       "3  Peter   28"
      ]
     },
     "execution_count": 40,
     "metadata": {},
     "output_type": "execute_result"
    }
   ],
   "source": [
    "import pandas as pd\n",
    "df=pd.DataFrame({\"Name\":['Tom','Nick','John','Peter'],\n",
    "                 \"Age\":[15,26,17,28]})\n",
    "\n",
    "df"
   ]
  },
  {
   "cell_type": "code",
   "execution_count": 41,
   "id": "f74d14d3",
   "metadata": {},
   "outputs": [
    {
     "data": {
      "text/html": [
       "<div>\n",
       "<style scoped>\n",
       "    .dataframe tbody tr th:only-of-type {\n",
       "        vertical-align: middle;\n",
       "    }\n",
       "\n",
       "    .dataframe tbody tr th {\n",
       "        vertical-align: top;\n",
       "    }\n",
       "\n",
       "    .dataframe thead th {\n",
       "        text-align: right;\n",
       "    }\n",
       "</style>\n",
       "<table border=\"1\" class=\"dataframe\">\n",
       "  <thead>\n",
       "    <tr style=\"text-align: right;\">\n",
       "      <th></th>\n",
       "      <th>Col_1</th>\n",
       "      <th>Col_2</th>\n",
       "    </tr>\n",
       "  </thead>\n",
       "  <tbody>\n",
       "    <tr>\n",
       "      <th>Row_1</th>\n",
       "      <td>Tom</td>\n",
       "      <td>15</td>\n",
       "    </tr>\n",
       "    <tr>\n",
       "      <th>Row_2</th>\n",
       "      <td>Nick</td>\n",
       "      <td>26</td>\n",
       "    </tr>\n",
       "    <tr>\n",
       "      <th>Row_3</th>\n",
       "      <td>John</td>\n",
       "      <td>17</td>\n",
       "    </tr>\n",
       "    <tr>\n",
       "      <th>Row_4</th>\n",
       "      <td>Peter</td>\n",
       "      <td>28</td>\n",
       "    </tr>\n",
       "  </tbody>\n",
       "</table>\n",
       "</div>"
      ],
      "text/plain": [
       "       Col_1  Col_2\n",
       "Row_1    Tom     15\n",
       "Row_2   Nick     26\n",
       "Row_3   John     17\n",
       "Row_4  Peter     28"
      ]
     },
     "execution_count": 41,
     "metadata": {},
     "output_type": "execute_result"
    }
   ],
   "source": [
    "# Change the column names\n",
    "df.columns =['Col_1', 'Col_2']\n",
    "  \n",
    "# Change the row indexes\n",
    "df.index = ['Row_1', 'Row_2', 'Row_3', 'Row_4']\n",
    "  \n",
    "# printing the data frame\n",
    "df"
   ]
  },
  {
   "cell_type": "code",
   "execution_count": null,
   "id": "6f598d22",
   "metadata": {},
   "outputs": [],
   "source": []
  }
 ],
 "metadata": {
  "kernelspec": {
   "display_name": "Python 3 (ipykernel)",
   "language": "python",
   "name": "python3"
  },
  "language_info": {
   "codemirror_mode": {
    "name": "ipython",
    "version": 3
   },
   "file_extension": ".py",
   "mimetype": "text/x-python",
   "name": "python",
   "nbconvert_exporter": "python",
   "pygments_lexer": "ipython3",
   "version": "3.9.7"
  }
 },
 "nbformat": 4,
 "nbformat_minor": 5
}
